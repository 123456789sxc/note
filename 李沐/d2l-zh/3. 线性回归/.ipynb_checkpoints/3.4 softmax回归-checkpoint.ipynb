{
 "cells": [
  {
   "cell_type": "markdown",
   "id": "4a2f23f2",
   "metadata": {},
   "source": [
    "## 回归 vs 分类\n",
    "回归是估计一个连续值，预测值y是连续变量  \n",
    "分类是估计一个离散值，预测值y是离散变量\n",
    "![vs](./picture/1.png)"
   ]
  },
  {
   "cell_type": "markdown",
   "id": "419ac911",
   "metadata": {},
   "source": [
    "Softmax从字面上来说，可以分成soft和max两个部分。max故名思议就是最大值的意思。Softmax的核心在于soft，而soft有软的含义，与之相对的是hard硬。很多场景中需要我们找出数组所有元素中值最大的元素，实质上都是求的hardmax。  \n",
    "hardmax最大的特点就是只选出其中一个最大的值，即非黑即白。但是往往在实际中这种方式是不合情理的，比如对于文本分类来说，一篇文章或多或少包含着各种主题信息，我们更期望得到文章对于每个可能的文本类别的概率值（置信度），可以简单理解成属于对应类别的可信度。所以此时用到了soft的概念，Softmax的含义就在于不再唯一的确定某一个最大值，而是为每个输出分类的结果都赋予一个概率值，表示属于每个类别的可能性。"
   ]
  },
  {
   "cell_type": "markdown",
   "id": "ebce6392",
   "metadata": {},
   "source": [
    "类别y是离散值，当y取某一类别的时候在计算机中该怎么表示呢？  \n",
    "离散特征的编码分为两种情况：\n",
    "\n",
    "1、离散特征的取值之间没有大小的意义，比如color：[red,blue],那么就使用one-hot编码\n",
    "\n",
    "2、离散特征的取值有大小的意义，比如size:[X,XL,XXL],那么就使用数值的映射{X:1,XL:2,XXL:3}"
   ]
  },
  {
   "cell_type": "markdown",
   "id": "e5449f67",
   "metadata": {},
   "source": [
    "## 为什么用独热编码?\n",
    "独热编码（哑变量 dummy variable）是因为大部分算法是基于向量空间中的度量来进行计算的，为了使非偏序关系的变量取值不具有偏序性，并且到圆点是等距的。使用one-hot编码，将离散特征的取值扩展到了欧式空间，离散特征的某个取值就对应欧式空间的某个点。将离散型特征使用one-hot编码，会让特征各个取值之间的距离计算更加合理。离散特征进行one-hot编码后，编码后的特征，其实每一维度的特征都可以看做是连续的特征。就可以跟对连续型特征的归一化方法一样，对每一维特征进行归一化。比如归一化到[-1,1]或归一化到均值为0,方差为1。\n",
    "\n",
    "为什么特征向量要映射到欧式空间？\n",
    "\n",
    "将离散特征通过one-hot编码映射到欧式空间，是因为，在回归，分类，聚类等机器学习算法中，特征之间距离的计算或相似度的计算是非常重要的，而我们常用的距离或相似度的计算都是在欧式空间的相似度计算，计算余弦相似性，基于的就是欧式空间。"
   ]
  },
  {
   "cell_type": "markdown",
   "id": "9d3e7451",
   "metadata": {},
   "source": [
    "比如说color:[red,blue]，对应两个编码分别是(0,1).(1,0);blue和red处于同等地位，不偏向任何一方，在欧式空间中，也是对称的，可互换的，完全对等。  \n",
    "而size:[X,XL,XXL]，本身蕴含的大小关系，如果用独热编码会导致这种大小关系丢失。"
   ]
  }
 ],
 "metadata": {
  "kernelspec": {
   "display_name": "d2l-zh",
   "language": "python",
   "name": "d2l-zh"
  },
  "language_info": {
   "codemirror_mode": {
    "name": "ipython",
    "version": 3
   },
   "file_extension": ".py",
   "mimetype": "text/x-python",
   "name": "python",
   "nbconvert_exporter": "python",
   "pygments_lexer": "ipython3",
   "version": "3.8.16"
  }
 },
 "nbformat": 4,
 "nbformat_minor": 5
}
