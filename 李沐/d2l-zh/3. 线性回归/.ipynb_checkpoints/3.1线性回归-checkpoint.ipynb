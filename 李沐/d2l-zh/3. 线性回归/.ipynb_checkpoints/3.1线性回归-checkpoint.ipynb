{
 "cells": [
  {
   "cell_type": "markdown",
   "id": "600d8f5c",
   "metadata": {},
   "source": [
    "在介绍深度神经网络之前，我们需要了解神经网络训练的基础知识。 本章我们将介绍神经网络的整个训练过程， 包括：定义简单的神经网络架构、数据处理、指定损失函数和如何训练模型。 为了更容易学习，我们将从经典算法————线性神经网络开始，介绍神经网络的基础知识。 经典统计学习技术中的线性回归和softmax回归可以视为线性神经网络， 这些知识将为本书其他部分中更复杂的技术奠定基础。"
   ]
  },
  {
   "cell_type": "markdown",
   "id": "b1d7978d",
   "metadata": {},
   "source": [
    "什么是线性回归呢？  \n",
    "我们以线性回归的应用来说明什么是线性回归，(我当时学的时候，直接告诉我数学定义，我搞不清学着玩意儿有啥用)  \n",
    "我们希望根据房屋的面积（平方英尺）和房龄（年）来估算房屋价格（美元）。为了开发一个模型以预测房价，我们需要收集一个真实的数据集。 这个数据集包括了房屋的销售价格、面积和房龄。   \n",
    "在机器学习的术语中，该数据集称为训练数据集（training data set） 或训练集（training set）。 每行数据（比如一次房屋交易相对应的数据）称为样本（sample）， 也可以称为数据点（data point）或数据样本（data instance）。 我们把试图预测的目标（比如预测房屋价格）称为标签（label）或目标（target）。 预测所依据的自变量（面积和房龄）称为特征（feature）或协变量（covariate）。\n"
   ]
  },
  {
   "cell_type": "markdown",
   "id": "c9d7a623",
   "metadata": {},
   "source": [
    "通常，我们使用$n$来表示数据集中的样本数。\n",
    "对索引为$i$的样本，其输入表示为$\\mathbf{x}^{(i)} = [x_1^{(i)}, x_2^{(i)}]^\\top$，\n",
    "其对应的标签是$y^{(i)}$。"
   ]
  },
  {
   "cell_type": "markdown",
   "id": "7ef37ef0",
   "metadata": {},
   "source": [
    "线性回归模型是指目标（房屋价格）可以表示为特征（面积和房龄）的加权和，如下面的式子：\n",
    "\n",
    "$$\\mathrm{price} = w_{\\mathrm{area}} \\cdot \\mathrm{area} + w_{\\mathrm{age}} \\cdot \\mathrm{age} + b.$$"
   ]
  },
  {
   "cell_type": "markdown",
   "id": "bc22d7d1",
   "metadata": {},
   "source": [
    "$w_{\\mathrm{area}}$和$w_{\\mathrm{age}}$\n",
    "称为*权重*（weight），权重决定了每个特征对我们预测值的影响。\n",
    "$b$称为*偏置*（bias）、*偏移量*（offset）或*截距*（intercept）。\n",
    "偏置是指当所有特征都取值为0时，预测值应该为多少。\n",
    "即使现实中不会有任何房子的面积是0或房龄正好是0年，我们仍然需要偏置项。\n",
    "如果没有偏置项，我们模型的表达能力将受到限制。\n",
    "严格来说， 该模型是输入特征的一个\n",
    "*仿射变换*（affine transformation）。\n",
    "仿射变换的特点是通过加权和对特征进行*线性变换*（linear transformation），\n",
    "并通过偏置项来进行*平移*（translation）。"
   ]
  },
  {
   "cell_type": "markdown",
   "id": "f663145d",
   "metadata": {},
   "source": [
    "**综上所述，我们在面对预测问题的时候，先找出影响y的因素x，采用线性回归模型，预测y = 影响因素x的加权和+偏置b**  "
   ]
  },
  {
   "cell_type": "markdown",
   "id": "ba040560",
   "metadata": {},
   "source": [
    "接下来看看线性回归的定义\n",
    "\n",
    "而在机器学习领域，我们通常使用的是高维数据集，建模时采用线性代数表示法会比较方便。\n",
    "当我们的输入包含$d$个特征时，我们将预测结果$\\hat{y}$\n",
    "（通常使用“尖角”符号表示$y$的估计值）表示为：\n",
    "\n",
    "$$\\hat{y} = w_1  x_1 + ... + w_d  x_d + b.$$\n",
    "\n",
    "将所有特征放到向量$\\mathbf{x} \\in \\mathbb{R}^d$中，\n",
    "并将所有权重放到向量$\\mathbf{w} \\in \\mathbb{R}^d$中，\n",
    "我们可以用点积形式来简洁地表达模型：\n",
    "\n",
    "$$\\hat{y} = \\mathbf{w}^\\top \\mathbf{x} + b.$$\n",
    "\n",
    "**向量$\\mathbf{x}$对应于单个数据样本的特征。\n",
    "用符号表示的矩阵$\\mathbf{X} \\in \\mathbb{R}^{n \\times d}$\n",
    "可以很方便地引用我们整个数据集的$n$个样本。\n",
    "其中，$\\mathbf{X}$的每一行是一个样本，每一列是一种特征。**\n",
    "\n",
    "对于特征集合$\\mathbf{X}$，预测值$\\hat{\\mathbf{y}} \\in \\mathbb{R}^n$\n",
    "可以通过矩阵-向量乘法表示为：\n",
    "\n",
    "$${\\hat{\\mathbf{y}}} = \\mathbf{X} \\mathbf{w} + b$$"
   ]
  },
  {
   "cell_type": "markdown",
   "id": "1698fede",
   "metadata": {},
   "source": [
    "$\\mathbf{X} \\in \\mathbb{R}^{n \\times d}$，$\\mathbf{w} \\in \\mathbb{R}^d$，$\\hat{\\mathbf{y}} \\in \\mathbb{R}^n$，b是标量"
   ]
  },
  {
   "cell_type": "markdown",
   "id": "5127e1b9",
   "metadata": {},
   "source": [
    "有了线性回归模型之后，如何训练模型呢？  \n",
    "给定训练数据特征 𝐗 和对应的已知标签 𝐲 ， 线性回归的目标是找到一组权重向量 𝐰 和偏置 𝑏 ： 当给定从𝐗的同分布中取样的新样本特征时， 这组权重向量和偏置能够使得新样本预测标签的误差尽可能小。"
   ]
  },
  {
   "cell_type": "markdown",
   "id": "2b62a3e9",
   "metadata": {},
   "source": [
    "虽然我们相信给定$\\mathbf{x}$预测$y$的最佳模型会是线性的，\n",
    "但我们很难找到一个有$n$个样本的真实数据集，其中对于所有的$1 \\leq i \\leq n$，$y^{(i)}$完全等于$\\mathbf{w}^\\top \\mathbf{x}^{(i)}+b$。\n",
    "无论我们使用什么手段来观察特征$\\mathbf{X}$和标签$\\mathbf{y}$，\n",
    "都可能会出现少量的观测误差。\n",
    "因此，即使确信特征与标签的潜在关系是线性的，\n",
    "我们也会加入一个噪声项来考虑观测误差带来的影响。（噪声:对模型有误导作用的数据）"
   ]
  },
  {
   "cell_type": "markdown",
   "id": "257abca7",
   "metadata": {},
   "source": [
    "在开始寻找最好的*模型参数*（model parameters）$\\mathbf{w}$和$b$之前，\n",
    "我们还需要两个东西：  \n",
    "（1）一种模型质量的度量方式；  \n",
    "（2）一种能够更新模型以提高模型预测质量的方法。"
   ]
  },
  {
   "cell_type": "markdown",
   "id": "3dfa7209",
   "metadata": {},
   "source": [
    "## 损失函数\n",
    "在我们开始考虑如何用模型拟合（fit）数据之前，我们需要确定一个拟合程度的度量。(模型拟合数据是让模型判断数据的标签时尽可能都判断正确)。    \n",
    "损失函数（loss function）能够量化目标的实际值与预测值之间的差距。 通常我们会选择非负数作为损失，且数值越小表示损失越小，完美预测时的损失为0。 回归问题中最常用的损失函数是平方误差函数。  \n",
    "回归问题中最常用的损失函数是平方误差函数。\n",
    "当样本$i$的预测值为$\\hat{y}^{(i)}$，其相应的真实标签为$y^{(i)}$时，\n",
    "平方误差可以定义为以下公式：\n",
    "\n",
    "$$l^{(i)}(\\mathbf{w}, b) = \\frac{1}{2} \\left(\\hat{y}^{(i)} - y^{(i)}\\right)^2.$$\n",
    "常数$\\frac{1}{2}$不会带来本质的差别，但这样在形式上稍微简单一些\n",
    "（因为当我们对损失函数求导后常数系数为1）。  \n",
    "由于平方误差函数中的二次方项，\n",
    "估计值$\\hat{y}^{(i)}$和观测值$y^{(i)}$之间较大的差异将导致更大的损失。\n",
    "**为了度量模型在整个数据集上的质量，我们需计算在训练集$n$个样本上的损失均值（也等价于求和）。**\n",
    "\n",
    "$$L(\\mathbf{w}, b) =\\frac{1}{n}\\sum_{i=1}^n l^{(i)}(\\mathbf{w}, b) =\\frac{1}{n} \\sum_{i=1}^n \\frac{1}{2}\\left(\\mathbf{w}^\\top \\mathbf{x}^{(i)} + b - y^{(i)}\\right)^2.$$\n",
    "\n",
    "在训练模型时，我们希望寻找一组参数（$\\mathbf{w}^*, b^*$），\n",
    "这组参数能最小化在所有训练样本上的总损失。如下式：\n",
    "\n",
    "$$\\mathbf{w}^*, b^* = \\operatorname*{argmin}_{\\mathbf{w}, b}\\  L(\\mathbf{w}, b).$$\n",
    "把所有的数据带入函数式，得到关于$\\mathbf{w},b$的函数式，找到函数值(总损失)最小时的$\\mathbf{w},b$"
   ]
  },
  {
   "cell_type": "markdown",
   "id": "69b26996",
   "metadata": {},
   "source": [
    "### 解析解\n",
    "\n",
    "线性回归刚好是一个很简单的优化问题。\n",
    "与我们将在本书中所讲到的其他大部分模型不同，线性回归的解可以用一个公式简单地表达出来，\n",
    "这类解叫作解析解（analytical solution）。\n",
    "首先，我们将偏置$b$合并到参数$\\mathbf{w}$中，合并方法是在包含所有参数的矩阵中附加一列。\n",
    "我们的预测问题是最小化$\\|\\mathbf{y} - \\mathbf{X}\\mathbf{w}\\|^2$。\n",
    "这在损失平面上只有一个临界点，这个临界点对应于整个区域的损失极小点。\n",
    "将损失关于$\\mathbf{w}$的导数设为0，得到解析解：\n",
    "\n",
    "$$\\mathbf{w}^* = (\\mathbf X^\\top \\mathbf X)^{-1}\\mathbf X^\\top \\mathbf{y}.$$\n",
    "\n",
    "像线性回归这样的简单问题存在解析解，但并不是所有的问题都存在解析解。\n",
    "解析解可以进行很好的数学分析，但解析解对问题的限制很严格，导致它无法广泛应用在深度学习里。"
   ]
  },
  {
   "cell_type": "markdown",
   "id": "7b5663eb",
   "metadata": {},
   "source": [
    "### 随机梯度下降\n",
    "\n",
    "即使在我们无法得到解析解的情况下，我们仍然可以有效地训练模型。\n",
    "在许多任务上，那些难以优化的模型效果要更好。\n",
    "因此，弄清楚如何训练这些难以优化的模型是非常重要的。\n",
    "\n",
    "本书中我们用到一种名为*梯度下降*（gradient descent）的方法，\n",
    "这种方法几乎可以优化所有深度学习模型。\n",
    "它通过不断地在损失函数递减的方向上更新参数来降低误差。\n",
    "\n",
    "梯度下降最简单的用法是计算损失函数（数据集中所有样本的损失均值）\n",
    "关于模型参数的导数（在这里也可以称为梯度）。\n",
    "但实际中的执行可能会非常慢：因为在每一次更新参数之前，我们必须遍历整个数据集。\n",
    "因此，我们通常会在每次需要计算更新的时候随机抽取一小批样本，\n",
    "这种变体叫做*小批量随机梯度下降*（minibatch stochastic gradient descent）。\n",
    "\n",
    "在每次迭代中，我们首先随机抽样一个小批量$\\mathcal{B}$，\n",
    "它是由固定数量的训练样本组成的。\n",
    "然后，我们计算小批量的平均损失关于模型参数的导数（也可以称为梯度）。\n",
    "最后，我们将梯度乘以一个预先确定的正数$\\eta$，并从当前参数的值中减掉。\n",
    "\n",
    "我们用下面的数学公式来表示这一更新过程（$\\partial$表示偏导数）：\n",
    "\n",
    "$$(\\mathbf{w},b) \\leftarrow (\\mathbf{w},b) - \\frac{\\eta}{|\\mathcal{B}|} \\sum_{i \\in \\mathcal{B}} \\partial_{(\\mathbf{w},b)} l^{(i)}(\\mathbf{w},b).$$\n",
    "\n",
    "总结一下，算法的步骤如下：\n",
    "（1）初始化模型参数的值，如随机初始化；\n",
    "（2）从数据集中随机抽取小批量样本且在负梯度的方向上更新参数，并不断迭代这一步骤。\n",
    "对于平方损失和仿射变换，我们可以明确地写成如下形式:\n",
    "\n",
    "$$\\begin{aligned} \\mathbf{w} &\\leftarrow \\mathbf{w} -   \\frac{\\eta}{|\\mathcal{B}|} \\sum_{i \\in \\mathcal{B}} \\partial_{\\mathbf{w}} l^{(i)}(\\mathbf{w}, b) = \\mathbf{w} - \\frac{\\eta}{|\\mathcal{B}|} \\sum_{i \\in \\mathcal{B}} \\mathbf{x}^{(i)} \\left(\\mathbf{w}^\\top \\mathbf{x}^{(i)} + b - y^{(i)}\\right),\\\\ b &\\leftarrow b -  \\frac{\\eta}{|\\mathcal{B}|} \\sum_{i \\in \\mathcal{B}} \\partial_b l^{(i)}(\\mathbf{w}, b)  = b - \\frac{\\eta}{|\\mathcal{B}|} \\sum_{i \\in \\mathcal{B}} \\left(\\mathbf{w}^\\top \\mathbf{x}^{(i)} + b - y^{(i)}\\right). \\end{aligned}$$\n",
    "\n",
    "公式 中的$\\mathbf{w}$和$\\mathbf{x}$都是向量。\n",
    "在这里，更优雅的向量表示法比系数表示法（如$w_1, w_2, \\ldots, w_d$）更具可读性。\n",
    "$|\\mathcal{B}|$表示每个小批量中的样本数，这也称为*批量大小*（batch size）。\n",
    "$\\eta$表示*学习率*（learning rate）。\n",
    "批量大小和学习率的值通常是手动预先指定，而不是通过模型训练得到的。\n",
    "这些可以调整但不在训练过程中更新的参数称为*超参数*（hyperparameter）。\n",
    "*调参*（hyperparameter tuning）是选择超参数的过程。\n",
    "超参数通常是我们根据训练迭代结果来调整的，\n",
    "而训练迭代结果是在独立的*验证数据集*（validation dataset）上评估得到的。\n",
    "\n",
    "在训练了预先确定的若干迭代次数后（或者直到满足某些其他停止条件后），\n",
    "我们记录下模型参数的估计值，表示为$\\hat{\\mathbf{w}}, \\hat{b}$。\n",
    "但是，即使我们的函数确实是线性的且无噪声，这些估计值也不会使损失函数真正地达到最小值。\n",
    "因为算法会使得损失向最小值缓慢收敛，但却不能在有限的步数内非常精确地达到最小值。\n",
    "\n",
    "线性回归恰好是一个在整个域中只有一个最小值的学习问题。\n",
    "但是对像深度神经网络这样复杂的模型来说，损失平面上通常包含多个最小值。\n",
    "深度学习实践者很少会去花费大力气寻找这样一组参数，使得在*训练集*上的损失达到最小。\n",
    "事实上，更难做到的是找到一组参数，这组参数能够在我们从未见过的数据上实现较低的损失，\n",
    "这一挑战被称为*泛化*（generalization）。"
   ]
  },
  {
   "cell_type": "markdown",
   "id": "531ef869",
   "metadata": {},
   "source": [
    "## 矢量化加速\n",
    "即应用线性代数里的向量运算  \n",
    "在训练我们的模型时，我们经常希望能够同时处理整个小批量的样本。\n",
    "为了实现这一点，需要(**我们对计算进行矢量化，\n",
    "从而利用线性代数库，而不是在Python中编写开销高昂的for循环**)。"
   ]
  },
  {
   "cell_type": "code",
   "execution_count": 2,
   "id": "a29e6a36",
   "metadata": {},
   "outputs": [],
   "source": [
    "%matplotlib inline\n",
    "import math\n",
    "import time\n",
    "import numpy as np\n",
    "import torch\n",
    "from d2l import torch as d2l"
   ]
  },
  {
   "cell_type": "markdown",
   "id": "8b36cbde",
   "metadata": {},
   "source": [
    "为了说明矢量化为什么如此重要，我们考虑(**对向量相加的两种方法**)。\n",
    "我们实例化两个全为1的10000维向量。\n",
    "在一种方法中，我们将使用Python的for循环遍历向量；\n",
    "在另一种方法中，我们将依赖对`+`的调用。\n"
   ]
  },
  {
   "cell_type": "code",
   "execution_count": 3,
   "id": "a6f4257b",
   "metadata": {},
   "outputs": [],
   "source": [
    "n = 10000\n",
    "a = torch.ones([n])\n",
    "b = torch.ones([n])"
   ]
  },
  {
   "cell_type": "code",
   "execution_count": 4,
   "id": "36772fb1",
   "metadata": {},
   "outputs": [],
   "source": [
    "class Timer:  #@save\n",
    "    \"\"\"记录多次运行时间\"\"\"\n",
    "    def __init__(self):\n",
    "        self.times = []\n",
    "        self.start()\n",
    "\n",
    "    def start(self):\n",
    "        \"\"\"启动计时器\"\"\"\n",
    "        self.tik = time.time()\n",
    "\n",
    "    def stop(self):\n",
    "        \"\"\"停止计时器并将时间记录在列表中\"\"\"\n",
    "        self.times.append(time.time() - self.tik)\n",
    "        return self.times[-1]\n",
    "\n",
    "    def avg(self):\n",
    "        \"\"\"返回平均时间\"\"\"\n",
    "        return sum(self.times) / len(self.times)\n",
    "\n",
    "    def sum(self):\n",
    "        \"\"\"返回时间总和\"\"\"\n",
    "        return sum(self.times)\n",
    "\n",
    "    def cumsum(self):\n",
    "        \"\"\"返回累计时间\"\"\"\n",
    "        return np.array(self.times).cumsum().tolist()"
   ]
  },
  {
   "cell_type": "markdown",
   "id": "45083a45",
   "metadata": {},
   "source": [
    "首先，[**我们使用for循环，每次执行一位的加法**]。"
   ]
  },
  {
   "cell_type": "code",
   "execution_count": 5,
   "id": "726b78cf",
   "metadata": {},
   "outputs": [
    {
     "data": {
      "text/plain": [
       "'0.10903 sec'"
      ]
     },
     "execution_count": 5,
     "metadata": {},
     "output_type": "execute_result"
    }
   ],
   "source": [
    "c = torch.zeros(n)\n",
    "timer = Timer()\n",
    "for i in range(n):\n",
    "    c[i] = a[i] + b[i]\n",
    "f'{timer.stop():.5f} sec'"
   ]
  },
  {
   "cell_type": "markdown",
   "id": "5df691ec",
   "metadata": {},
   "source": [
    "(**或者，我们使用重载的`+`运算符来计算按元素的和**)。"
   ]
  },
  {
   "cell_type": "code",
   "execution_count": 10,
   "id": "061a7c46",
   "metadata": {},
   "outputs": [
    {
     "data": {
      "text/plain": [
       "'0.00000 sec'"
      ]
     },
     "execution_count": 10,
     "metadata": {},
     "output_type": "execute_result"
    }
   ],
   "source": [
    "timer.start()\n",
    "d = a + b\n",
    "f'{timer.stop():.5f} sec'"
   ]
  },
  {
   "cell_type": "markdown",
   "id": "442db997",
   "metadata": {},
   "source": [
    "## 正态分布与平方损失\n",
    "这部分跟极大似然估计有关，先留空吧。"
   ]
  },
  {
   "cell_type": "code",
   "execution_count": null,
   "id": "af0c36a0",
   "metadata": {},
   "outputs": [],
   "source": []
  }
 ],
 "metadata": {
  "kernelspec": {
   "display_name": "d2l-zh",
   "language": "python",
   "name": "d2l-zh"
  },
  "language_info": {
   "codemirror_mode": {
    "name": "ipython",
    "version": 3
   },
   "file_extension": ".py",
   "mimetype": "text/x-python",
   "name": "python",
   "nbconvert_exporter": "python",
   "pygments_lexer": "ipython3",
   "version": "3.8.16"
  }
 },
 "nbformat": 4,
 "nbformat_minor": 5
}
