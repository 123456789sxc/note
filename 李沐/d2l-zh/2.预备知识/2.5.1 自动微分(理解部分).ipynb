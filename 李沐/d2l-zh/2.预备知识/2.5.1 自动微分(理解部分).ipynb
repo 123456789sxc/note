{
 "cells": [
  {
   "cell_type": "markdown",
   "id": "5052757d",
   "metadata": {},
   "source": [
    "求导是几乎所有深度学习优化算法的关键步骤。 虽然求导的计算很简单，只需要一些基本的微积分。 但对于复杂的模型，手工进行更新是一件很痛苦的事情（而且经常容易出错）。\n",
    "\n",
    "深度学习框架通过自动计算导数，即自动微分（automatic differentiation）来加快求导。 实际中，根据设计好的模型，系统会构建一个计算图（computational graph）， 来跟踪计算是哪些数据通过哪些操作组合起来产生输出。 自动微分使系统能够随后反向传播梯度。 这里，反向传播（backpropagate）意味着跟踪整个计算图，填充关于每个参数的偏导数。"
   ]
  },
  {
   "cell_type": "markdown",
   "id": "18bb1ab4",
   "metadata": {},
   "source": [
    "第二段话不明所以，我们来看看怎么个事儿"
   ]
  },
  {
   "cell_type": "markdown",
   "id": "f0bf4529",
   "metadata": {},
   "source": [
    "首先来理解一下以下概念：\n",
    "![image](./picture/4.png)\n",
    "符号求导：给定解析式，求其导数式  \n",
    "数值求导：不给解析式，但是给了某个点x的函数值，以及h，以及x+h的函数值，根据导数定义式，进行近似求导"
   ]
  },
  {
   "cell_type": "markdown",
   "id": "72106a83",
   "metadata": {},
   "source": [
    "深度学习提供的自动求导功能跟这两种求导方式都不一样，我们拿2.4中的例子1来举例，来理解上面的第二段话\n",
    "![jupyter](./picture/2.png)"
   ]
  },
  {
   "cell_type": "markdown",
   "id": "67625fd7",
   "metadata": {},
   "source": [
    "根据设计好的模型$z={(\\left \\langle \\pmb{x},\\pmb{w}\\right \\rangle-y)}^2$,系统会构建一个计算图(下图)， 来跟踪计算是哪些数据通过哪些操作组合起来产生输出。\n",
    "![image](./picture/5.png)  \n",
    "在下图中，$\\pmb{x}$ 和 $\\pmb{w}$ 通过操作*内积* 组合起来产生输出a  \n",
    "a和y通过操作*减法* 组合起来产生输出b  \n",
    "b 通过操作*乘方*组合起来产生输出z"
   ]
  },
  {
   "cell_type": "markdown",
   "id": "d1a400fc",
   "metadata": {},
   "source": [
    "![iamge](./picture/6.png)"
   ]
  },
  {
   "cell_type": "markdown",
   "id": "fe5b7a2f",
   "metadata": {},
   "source": [
    "举例说明正向积累![image](./picture/7.png)  "
   ]
  },
  {
   "cell_type": "markdown",
   "id": "017b785f",
   "metadata": {},
   "source": [
    "比如我们要求$\\frac{\\partial z}{\\partial \\pmb{w}}$  \n",
    "先求出a对w的导数，再求出b对a的导数，相乘之后；再求出z对b的导数，再相乘就得到了结果"
   ]
  },
  {
   "cell_type": "markdown",
   "id": "d5510994",
   "metadata": {},
   "source": [
    "![iamge](./picture/8.png)"
   ]
  },
  {
   "cell_type": "markdown",
   "id": "016db115",
   "metadata": {},
   "source": [
    "同样我们要求$\\frac{\\partial z}{\\partial \\pmb{w}}$   \n",
    "1. 先求z对b的导数  \n",
    "2. 再求z对a的导数\n",
    "3. 再求z对w的导数  \n",
    "其实，正向和反向这样看没啥区别啊  \n",
    "https://www.bilibili.com/list/1567748478?sid=358497&spm_id_from=333.999.0.0&desc=1&oid=332144138&bvid=BV1KA411N7Px  \n",
    "在最后一部分不理解，有什么用，挖坑啊"
   ]
  }
 ],
 "metadata": {
  "kernelspec": {
   "display_name": "d2l-zh",
   "language": "python",
   "name": "d2l-zh"
  },
  "language_info": {
   "codemirror_mode": {
    "name": "ipython",
    "version": 3
   },
   "file_extension": ".py",
   "mimetype": "text/x-python",
   "name": "python",
   "nbconvert_exporter": "python",
   "pygments_lexer": "ipython3",
   "version": "3.8.16"
  }
 },
 "nbformat": 4,
 "nbformat_minor": 5
}
