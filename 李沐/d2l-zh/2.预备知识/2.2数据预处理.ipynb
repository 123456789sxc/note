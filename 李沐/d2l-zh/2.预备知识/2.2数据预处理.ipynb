{
 "cells": [
  {
   "cell_type": "markdown",
   "id": "de69e700",
   "metadata": {},
   "source": [
    "为了能用深度学习来解决现实世界的问题，我们经常从预处理原始数据开始， 而不是从那些准备好的张量格式数据开始。 在Python中常用的数据分析工具中，我们通常使用pandas软件包。 像庞大的Python生态系统中的许多其他扩展包一样，pandas可以与张量兼容。 本节我们将简要介绍使用pandas预处理原始数据，并将原始数据转换为张量格式的步骤。 后面的章节将介绍更多的数据预处理技术。"
   ]
  },
  {
   "cell_type": "code",
   "execution_count": 2,
   "id": "7a64654c",
   "metadata": {},
   "outputs": [],
   "source": [
    "# 创建一个人工数据集，然后按行写入csv文件中    ---- csv文件是表格文件,又叫逗号分隔值文件\n",
    "import os                                     #导入python标准库os\n",
    "\n",
    "os.makedirs(os.path.join('..', 'data'), exist_ok=True)   #在当前所在路径下的上一层路径下，建立一个data文件夹，如果已存在，不抛出FileExistsError\n",
    "data_file = os.path.join('..', 'data', 'house_tiny.csv')  #在data文件夹中创建一个 'house_tiny.csv'文件，并返回文件路径\n",
    "with open(data_file, 'w') as f:\n",
    "    f.write('NumRooms,Alley,Price\\n')  # 列名\n",
    "    f.write('NA,Pave,127500\\n')  # 每行表示一个数据样本\n",
    "    f.write('2,NA,106000\\n')\n",
    "    f.write('4,NA,178100\\n')   # 可以看到是用逗号分隔每一个值，在csv文件中，每一个值存放在一个格子里，这也就是为什么叫逗号分隔值文件\n",
    "    f.write('NA,NA,140000\\n')"
   ]
  },
  {
   "cell_type": "markdown",
   "id": "3628088e",
   "metadata": {},
   "source": [
    "os.makedirs(name, mode=0o777, exist_ok=False) 用于创建多层目录，目录也就是文件夹\n",
    "name：想要创建的目录路径\n",
    "mode：为目录设置权限\n",
    "exist_ok ：默认是False，指如果目标目录已存在，触发FileExistsError异常。设置为True表示，如果目标目录已存在不报错。\n",
    "os.path.join()函数用于路径拼接文件路径，可以传入多个路径，返回拼接后的路径\n",
    "```python\n",
    ">>> import os\n",
    ">>> print(os.path.join('path','abc','yyy'))\n",
    "path\\abc\\yyy\n",
    "```\n",
    "\n",
    "\n",
    "/ ：表示当前路径的根路径。\n",
    "\n",
    "./ ：表示当前路径。\n",
    "\n",
    "../ ：表示父级路径，当前路径所在的上一级路径。 "
   ]
  },
  {
   "cell_type": "code",
   "execution_count": 3,
   "id": "66bd2fd0",
   "metadata": {},
   "outputs": [
    {
     "name": "stdout",
     "output_type": "stream",
     "text": [
      "   NumRooms Alley   Price\n",
      "0       NaN  Pave  127500\n",
      "1       2.0   NaN  106000\n",
      "2       4.0   NaN  178100\n",
      "3       NaN   NaN  140000\n"
     ]
    }
   ],
   "source": [
    "#我们导入pandas包并调用read_csv函数。读出我们刚才创建的csv文件内容\n",
    "import pandas as pd\n",
    "\n",
    "data = pd.read_csv(data_file)\n",
    "print(data)"
   ]
  },
  {
   "cell_type": "code",
   "execution_count": 8,
   "id": "c951c941",
   "metadata": {},
   "outputs": [
    {
     "name": "stdout",
     "output_type": "stream",
     "text": [
      "   NumRooms Alley\n",
      "0       3.0  Pave\n",
      "1       2.0   NaN\n",
      "2       4.0   NaN\n",
      "3       3.0   NaN\n"
     ]
    }
   ],
   "source": [
    "#“NaN”项代表缺失值。为了处理缺失的数据，典型的方法包括插值法和删除法，删除法是忽略缺失值，插值法是用一个替代值弥补缺失值\n",
    "inputs, outputs = data.iloc[:, 0:2], data.iloc[:, 2]    # iloc是索引，inputs是data的所有行的前两列，outputs是data所有行的第三列\n",
    "inputs = inputs.fillna(inputs.mean())   # fillna()的作用是替换缺失值 ，用 同一列的均值 替换 缺失值\n",
    "print(inputs)"
   ]
  },
  {
   "cell_type": "markdown",
   "id": "74453d68",
   "metadata": {},
   "source": [
    "**对于inputs中的类别值或离散值，我们需要将这类的特征变量变为计算机能读懂的特征距离**，我们将“NaN”视为一个类别。 由于“巷子类型”（“Alley”）列只接受两种类型的类别值“Pave”和“NaN”， pandas可以自动将此列转换为两列“Alley_Pave”和“Alley_nan”。 巷子类型为“Pave”的行会将“Alley_Pave”的值设置为1，“Alley_nan”的值设置为0。 缺少巷子类型的行会将“Alley_Pave”和“Alley_nan”分别设置为0和1。**[独热编码]**"
   ]
  },
  {
   "cell_type": "code",
   "execution_count": 9,
   "id": "35c46e63",
   "metadata": {},
   "outputs": [
    {
     "name": "stdout",
     "output_type": "stream",
     "text": [
      "   NumRooms  Alley_Pave  Alley_nan\n",
      "0       3.0           1          0\n",
      "1       2.0           0          1\n",
      "2       4.0           0          1\n",
      "3       3.0           0          1\n"
     ]
    }
   ],
   "source": [
    "inputs = pd.get_dummies(inputs, dummy_na=True)\n",
    "print(inputs)"
   ]
  },
  {
   "cell_type": "markdown",
   "id": "6595bc6f",
   "metadata": {},
   "source": [
    "pd.get_dummies(data,dummy_na=False)  \n",
    "该函数用于处理  取值是几个类别或者离散值 的特征变量/属性  ，将其转化为计算机能处理的形式，独热编码\n",
    "dummy_na : 默认是false；如果dummy_na为False时，表示忽略缺失值，即不把缺失值作为单独的一类。"
   ]
  },
  {
   "cell_type": "markdown",
   "id": "0c1f7f09",
   "metadata": {},
   "source": [
    "## 转换为张量形式  \n",
    "[现在inputs和outputs中的所有条目都是数值类型，它们可以转换为张量格式。] 当数据采用张量格式后，可以通过在 :numref:sec_ndarray中引入的那些张量函数来进一步操作。"
   ]
  },
  {
   "cell_type": "code",
   "execution_count": 10,
   "id": "f997e640",
   "metadata": {},
   "outputs": [
    {
     "data": {
      "text/plain": [
       "(tensor([[3., 1., 0.],\n",
       "         [2., 0., 1.],\n",
       "         [4., 0., 1.],\n",
       "         [3., 0., 1.]], dtype=torch.float64),\n",
       " tensor([127500, 106000, 178100, 140000]))"
      ]
     },
     "execution_count": 10,
     "metadata": {},
     "output_type": "execute_result"
    }
   ],
   "source": [
    "import torch\n",
    "X, y = torch.tensor(inputs.values), torch.tensor(outputs.values)\n",
    "X, y"
   ]
  },
  {
   "cell_type": "code",
   "execution_count": null,
   "id": "d4b03e27",
   "metadata": {},
   "outputs": [],
   "source": []
  }
 ],
 "metadata": {
  "kernelspec": {
   "display_name": "d2l-zh",
   "language": "python",
   "name": "d2l-zh"
  },
  "language_info": {
   "codemirror_mode": {
    "name": "ipython",
    "version": 3
   },
   "file_extension": ".py",
   "mimetype": "text/x-python",
   "name": "python",
   "nbconvert_exporter": "python",
   "pygments_lexer": "ipython3",
   "version": "3.8.16"
  }
 },
 "nbformat": 4,
 "nbformat_minor": 5
}
