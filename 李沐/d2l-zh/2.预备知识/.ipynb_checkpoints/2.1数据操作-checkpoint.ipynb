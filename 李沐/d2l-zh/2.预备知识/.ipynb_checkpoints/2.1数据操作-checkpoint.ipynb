{
 "cells": [
  {
   "cell_type": "markdown",
   "id": "2ddcfa3b",
   "metadata": {},
   "source": [
    "# 2.1数据操作\n",
    "在进行数据操作之前，先要进行的操作是获取数据和存储数据，接下来我们来学习如何存储数据。\n",
    "我们把 由数值组成的数组 叫做 **张量(tensor)**;只有一个元素的张量对应数学上的**标量**，具有一个轴的张量对应数学上的**向量(vector)**，具有两个轴的张量对应数学上的**矩阵(matrix)**<br>\n",
    "什么是轴？  \n",
    "比如说 形状是(3,4)的张量有两个轴，第0轴有3个元素，第1轴有4个元素；形状是(2,3,4)的张量有三个轴;  \n",
    "什么是维度？  \n",
    "维度对于向量或者张量的某一个轴来说，指长度或元素总个数，比如向量(2,3,4)维度是3， 形状(3,4)的张量，第0轴的维度是3，第1轴的维度是4  \n",
    "维度对于张量来说，指轴的个数，比如  形状(3,4)的张量有三个维度\n",
    "## 2.1.1存储数据"
   ]
  },
  {
   "cell_type": "code",
   "execution_count": 3,
   "id": "30a6fcf4",
   "metadata": {},
   "outputs": [],
   "source": [
    "from IPython.core.interactiveshell import InteractiveShell   #默认打印所有的输出\n",
    "InteractiveShell.ast_node_interactivity = \"all\""
   ]
  },
  {
   "cell_type": "code",
   "execution_count": 4,
   "id": "d75ac238",
   "metadata": {},
   "outputs": [
    {
     "data": {
      "text/plain": [
       "tensor([ 0.,  1.,  2.,  3.,  4.,  5.,  6.,  7.,  8.,  9., 10., 11.])"
      ]
     },
     "execution_count": 4,
     "metadata": {},
     "output_type": "execute_result"
    },
    {
     "data": {
      "text/plain": [
       "torch.int64"
      ]
     },
     "execution_count": 4,
     "metadata": {},
     "output_type": "execute_result"
    },
    {
     "data": {
      "text/plain": [
       "tensor([ 0,  1,  2,  3,  4,  5,  6,  7,  8,  9, 10, 11])"
      ]
     },
     "execution_count": 4,
     "metadata": {},
     "output_type": "execute_result"
    }
   ],
   "source": [
    "import torch   #注意虽然我们口头上说它是pytorch，但导入的是torch\n",
    "torch.arange(12, dtype=torch.float32)   #默认是int64;\n",
    "x = torch.arange(12)  #返回一个包含从0到11的数组，也就是张量;元素数据类型全都是int64\n",
    "x.dtype     #返回数组的数据类型\n",
    "x"
   ]
  },
  {
   "cell_type": "code",
   "execution_count": 5,
   "id": "2537d4ab",
   "metadata": {},
   "outputs": [
    {
     "data": {
      "text/plain": [
       "torch.Size([12])"
      ]
     },
     "execution_count": 5,
     "metadata": {},
     "output_type": "execute_result"
    },
    {
     "data": {
      "text/plain": [
       "12"
      ]
     },
     "execution_count": 5,
     "metadata": {},
     "output_type": "execute_result"
    },
    {
     "data": {
      "text/plain": [
       "tensor([[ 0,  1,  2,  3],\n",
       "        [ 4,  5,  6,  7],\n",
       "        [ 8,  9, 10, 11]])"
      ]
     },
     "execution_count": 5,
     "metadata": {},
     "output_type": "execute_result"
    },
    {
     "data": {
      "text/plain": [
       "tensor([ 0,  1,  2,  3,  4,  5,  6,  7,  8,  9, 10, 11])"
      ]
     },
     "execution_count": 5,
     "metadata": {},
     "output_type": "execute_result"
    },
    {
     "data": {
      "text/plain": [
       "torch.Size([3, 4])"
      ]
     },
     "execution_count": 5,
     "metadata": {},
     "output_type": "execute_result"
    },
    {
     "data": {
      "text/plain": [
       "tensor([[ 0,  1,  2,  3],\n",
       "        [ 4,  5,  6,  7],\n",
       "        [ 8,  9, 10, 11]])"
      ]
     },
     "execution_count": 5,
     "metadata": {},
     "output_type": "execute_result"
    }
   ],
   "source": [
    "x.shape            #通过张量的shape属性访问张量的形状\n",
    "x.numel()           #通过这个函数访问张量的元素总个数\n",
    "x.reshape(3,4)      #改变一个张量的形状而不改变元素数量和元素值，可以调用reshape函数\n",
    "x            #可以看出reshape函数是返回形状改变后的张量，不会改变原张量\n",
    "x.reshape(3,4).shape\n",
    "x.reshape(3,-1)     #reshape自动计算功能，举例，如果我们想把张量转换为一个三行的矩阵，列数 = 总元素个数 / 3；如果不想算，就把列数设为-1，会自动计算"
   ]
  },
  {
   "cell_type": "code",
   "execution_count": 6,
   "id": "7f4a3446",
   "metadata": {},
   "outputs": [
    {
     "data": {
      "text/plain": [
       "tensor([[[0., 0., 0., 0.],\n",
       "         [0., 0., 0., 0.],\n",
       "         [0., 0., 0., 0.]],\n",
       "\n",
       "        [[0., 0., 0., 0.],\n",
       "         [0., 0., 0., 0.],\n",
       "         [0., 0., 0., 0.]]])"
      ]
     },
     "execution_count": 6,
     "metadata": {},
     "output_type": "execute_result"
    },
    {
     "data": {
      "text/plain": [
       "tensor([[1., 1., 1., 1.],\n",
       "        [1., 1., 1., 1.],\n",
       "        [1., 1., 1., 1.]])"
      ]
     },
     "execution_count": 6,
     "metadata": {},
     "output_type": "execute_result"
    }
   ],
   "source": [
    "torch.zeros(2,3,4)   # 返回一个形状是(2,3,4)，元素初始值全为0的张量\n",
    "torch.ones(3,4)    # 返回一个形状是(3,4)，元素初始值全为1的张量   --->只有这两个，torch.twos(3,4)  会报错 "
   ]
  },
  {
   "cell_type": "markdown",
   "id": "19c6bc42",
   "metadata": {},
   "source": [
    "有时我们想通过从某个特定的概率分布中随机采样来得到张量中每个元素的值。 例如，当我们构造数组来作为神经网络中的参数时，我们通常会随机初始化参数的值。 以下代码创建一个形状为（3,4）的张量。 其中的每个元素都从均值为0、标准差为1的标准高斯分布（正态分布）中随机采样。"
   ]
  },
  {
   "cell_type": "code",
   "execution_count": 7,
   "id": "fc1cae76",
   "metadata": {},
   "outputs": [
    {
     "data": {
      "text/plain": [
       "tensor([[-0.1593,  0.4352,  1.3715, -0.1758],\n",
       "        [-0.9662,  0.5289,  0.8912, -1.3607],\n",
       "        [ 1.1710, -0.4082, -1.2559,  1.7351]])"
      ]
     },
     "execution_count": 7,
     "metadata": {},
     "output_type": "execute_result"
    }
   ],
   "source": [
    "torch.randn(3, 4)   #创建一个形状为（3,4）的张量。 其中的每个元素都从均值为0、标准差为1的标准高斯分布（正态分布）中随机采样。"
   ]
  },
  {
   "cell_type": "code",
   "execution_count": 8,
   "id": "32722945",
   "metadata": {},
   "outputs": [
    {
     "data": {
      "text/plain": [
       "tensor([[2, 1, 4, 3],\n",
       "        [1, 2, 3, 4],\n",
       "        [4, 3, 2, 1]])"
      ]
     },
     "execution_count": 8,
     "metadata": {},
     "output_type": "execute_result"
    }
   ],
   "source": [
    "torch.tensor([[2, 1, 4, 3], [1, 2, 3, 4], [4, 3, 2, 1]])  #使用列表嵌套的方式创建数组"
   ]
  },
  {
   "cell_type": "markdown",
   "id": "3f262a41",
   "metadata": {},
   "source": [
    "## 2.1.2 运算符"
   ]
  },
  {
   "cell_type": "code",
   "execution_count": 9,
   "id": "71f906a9",
   "metadata": {},
   "outputs": [
    {
     "data": {
      "text/plain": [
       "(tensor([ 3.,  4.,  6., 10.]),\n",
       " tensor([-1.,  0.,  2.,  6.]),\n",
       " tensor([ 2.,  4.,  8., 16.]),\n",
       " tensor([0.5000, 1.0000, 2.0000, 4.0000]),\n",
       " tensor([ 1.,  4., 16., 64.]))"
      ]
     },
     "execution_count": 9,
     "metadata": {},
     "output_type": "execute_result"
    }
   ],
   "source": [
    "x = torch.tensor([1.0, 2, 4, 8])  \n",
    "y = torch.tensor([2, 2, 2, 2])\n",
    "x + y, x - y, x * y, x / y, x ** y  # **运算符是求幂运算    ----二元运算符\n",
    "#具有相同形状的张量进行加减乘除乘方运算的时候是  元素按位 进行计算    "
   ]
  },
  {
   "cell_type": "code",
   "execution_count": 10,
   "id": "57d8951b",
   "metadata": {},
   "outputs": [
    {
     "data": {
      "text/plain": [
       "tensor([2.7183e+00, 7.3891e+00, 5.4598e+01, 2.9810e+03])"
      ]
     },
     "execution_count": 10,
     "metadata": {},
     "output_type": "execute_result"
    }
   ],
   "source": [
    "torch.exp(x)   #返回值 output = e^(input)\n",
    "# 对张量的每一个元素求e^x     ----->一元运算符"
   ]
  },
  {
   "cell_type": "markdown",
   "id": "4f7f03d4",
   "metadata": {},
   "source": [
    "除了按元素计算外，我们还可以执行线性代数运算，包括向量点积和矩阵乘法。 我们将在 2.3节中解释线性代数的重点内容。"
   ]
  },
  {
   "cell_type": "code",
   "execution_count": 11,
   "id": "a9beca23",
   "metadata": {},
   "outputs": [
    {
     "data": {
      "text/plain": [
       "(tensor([[ 0.,  1.,  2.,  3.],\n",
       "         [ 4.,  5.,  6.,  7.],\n",
       "         [ 8.,  9., 10., 11.],\n",
       "         [ 2.,  1.,  4.,  3.],\n",
       "         [ 1.,  2.,  3.,  4.],\n",
       "         [ 4.,  3.,  2.,  1.]]),\n",
       " tensor([[ 0.,  1.,  2.,  3.,  2.,  1.,  4.,  3.],\n",
       "         [ 4.,  5.,  6.,  7.,  1.,  2.,  3.,  4.],\n",
       "         [ 8.,  9., 10., 11.,  4.,  3.,  2.,  1.]]),\n",
       " torch.Size([6, 4]),\n",
       " torch.Size([3, 8]))"
      ]
     },
     "execution_count": 11,
     "metadata": {},
     "output_type": "execute_result"
    },
    {
     "data": {
      "text/plain": [
       "(tensor([[[ 0.,  1.,  2.,  2.,  1.,  4.],\n",
       "          [ 3.,  4.,  5.,  3.,  1.,  2.]],\n",
       " \n",
       "         [[ 6.,  7.,  8.,  3.,  4.,  4.],\n",
       "          [ 9., 10., 11.,  3.,  2.,  1.]]]),\n",
       " torch.Size([2, 2, 6]))"
      ]
     },
     "execution_count": 11,
     "metadata": {},
     "output_type": "execute_result"
    }
   ],
   "source": [
    "X = torch.arange(12, dtype=torch.float32).reshape((3,4))\n",
    "Y = torch.tensor([[2.0, 1, 4, 3], [1, 2, 3, 4], [4, 3, 2, 1]])\n",
    "a = torch.cat((X, Y), dim=0)\n",
    "b = torch.cat((X, Y), dim=1)\n",
    "a,b,a.shape,b.shape\n",
    "c = X.reshape(2,2,3)\n",
    "d = Y.reshape(2,2,3)\n",
    "e = torch.cat((c, d), dim=2)   #cat函数第一个参数是将要合并的 张量元组 ,第二个参数dim表示按照哪一个轴进行合并.shape(3,4)的张量 ,3对应第0轴\n",
    "e,e.shape"
   ]
  },
  {
   "cell_type": "code",
   "execution_count": 12,
   "id": "92f050d9",
   "metadata": {},
   "outputs": [
    {
     "data": {
      "text/plain": [
       "tensor([[False,  True, False,  True],\n",
       "        [False, False, False, False],\n",
       "        [False, False, False, False]])"
      ]
     },
     "execution_count": 12,
     "metadata": {},
     "output_type": "execute_result"
    },
    {
     "data": {
      "text/plain": [
       "(tensor([[ 0.,  1.,  2.,  3.],\n",
       "         [ 4.,  5.,  6.,  7.],\n",
       "         [ 8.,  9., 10., 11.]]),\n",
       " tensor([[2., 1., 4., 3.],\n",
       "         [1., 2., 3., 4.],\n",
       "         [4., 3., 2., 1.]]))"
      ]
     },
     "execution_count": 12,
     "metadata": {},
     "output_type": "execute_result"
    }
   ],
   "source": [
    "#关系运算符 \n",
    "X == Y\n",
    "X,Y"
   ]
  },
  {
   "cell_type": "markdown",
   "id": "458f3e84",
   "metadata": {},
   "source": [
    "广播机制<br>\n",
    "对于形状不同的张量,可以通过调用 广播机制（broadcasting mechanism）来执行按元素操作。 这种机制的工作方式如下：\n",
    "1. 通过适当复制元素来扩展一个或两个数组，以便在转换之后，两个张量具有相同的形状；\n",
    "2. 对生成的数组执行按元素操作。"
   ]
  },
  {
   "cell_type": "code",
   "execution_count": 13,
   "id": "092bfaec",
   "metadata": {},
   "outputs": [
    {
     "data": {
      "text/plain": [
       "(tensor([[0],\n",
       "         [1],\n",
       "         [2]]),\n",
       " tensor([[0, 1]]))"
      ]
     },
     "execution_count": 13,
     "metadata": {},
     "output_type": "execute_result"
    },
    {
     "data": {
      "text/plain": [
       "tensor([[0, 1],\n",
       "        [1, 2],\n",
       "        [2, 3]])"
      ]
     },
     "execution_count": 13,
     "metadata": {},
     "output_type": "execute_result"
    }
   ],
   "source": [
    "a = torch.arange(3).reshape((3, 1))    \n",
    "b = torch.arange(2).reshape((1, 2)) \n",
    "a, b\n",
    "a + b   #由于a和b分别是3x1和1x2矩阵，如果让它们相加，它们的形状不匹配。 我们将两个矩阵广播为一个更大的3x2矩阵"
   ]
  },
  {
   "cell_type": "markdown",
   "id": "2c7ca541",
   "metadata": {},
   "source": [
    "索引和切片  \n",
    "一维数组中  \n",
    "[a:b:c]  ---> 访问 下标从a到b,左闭右开,步长是c 的元素<br>\n",
    "[a:b] --->默认步长是1<br>\n",
    "[a]  --->访问下标是a的元素  \n",
    "[:] --->访问 所有下标<br>\n",
    "同样适用于多维度"
   ]
  },
  {
   "cell_type": "code",
   "execution_count": 14,
   "id": "948e4511",
   "metadata": {},
   "outputs": [
    {
     "data": {
      "text/plain": [
       "tensor([[12., 12., 12., 12.],\n",
       "        [12., 12., 12., 12.],\n",
       "        [ 8.,  9., 10., 11.]])"
      ]
     },
     "execution_count": 14,
     "metadata": {},
     "output_type": "execute_result"
    }
   ],
   "source": [
    "X[0:2, :] = 12   #表示给第0行和第1行的所有元素赋值12\n",
    "X"
   ]
  },
  {
   "cell_type": "markdown",
   "id": "8aa0ef20",
   "metadata": {},
   "source": [
    "## 节省内存\n",
    "运行一些操作可能会导致为新结果分配内存。 例如，**如果我们用Y = X + Y，新分配内存存放X+Y的结果,通过赋值操作让Y指向这个新分配的内存处的张量.这样原先Y的内存并没有被释放,会造成内存的浪费.**  \n",
    "下面用代码解释"
   ]
  },
  {
   "cell_type": "code",
   "execution_count": 15,
   "id": "8c4e7b64",
   "metadata": {},
   "outputs": [
    {
     "data": {
      "text/plain": [
       "False"
      ]
     },
     "execution_count": 15,
     "metadata": {},
     "output_type": "execute_result"
    }
   ],
   "source": [
    "before = id(Y)   #Python的id()函数提供了内存中对象的确切地址   \n",
    "Y = Y + X\n",
    "id(Y) == before  "
   ]
  },
  {
   "cell_type": "markdown",
   "id": "d639e8b9",
   "metadata": {},
   "source": [
    "这可能是不可取的，原因有两个：\n",
    "1. 首先，我们不想总是不必要地分配内存。在机器学习中，我们可能有数百兆的参数，并且在一秒内多次更新所有参数。通常情况下，我们希望原地执行这些更新；\n",
    "2. 如果我们不原地更新，其他引用仍然会指向旧的内存位置，这样我们的某些代码可能会无意中引用旧的参数。"
   ]
  },
  {
   "cell_type": "code",
   "execution_count": 16,
   "id": "4e0e9b6b",
   "metadata": {},
   "outputs": [
    {
     "data": {
      "text/plain": [
       "(tensor([[14., 13., 16., 15.],\n",
       "         [13., 14., 15., 16.],\n",
       "         [12., 12., 12., 12.]]),\n",
       " tensor([[12., 12., 12., 12.],\n",
       "         [12., 12., 12., 12.],\n",
       "         [ 8.,  9., 10., 11.]]))"
      ]
     },
     "execution_count": 16,
     "metadata": {},
     "output_type": "execute_result"
    },
    {
     "data": {
      "text/plain": [
       "tensor([[26., 25., 28., 27.],\n",
       "        [25., 26., 27., 28.],\n",
       "        [20., 21., 22., 23.]])"
      ]
     },
     "execution_count": 16,
     "metadata": {},
     "output_type": "execute_result"
    }
   ],
   "source": [
    "#使用切片 来进行上述运算的原地操作\n",
    "Y,X\n",
    "Y[:] = Y + X    # Y的切片是按行操作,Y+X是按元素操作,能够赋值的原因大概时因为多维数组本质上还是一维的\n",
    "Y"
   ]
  },
  {
   "cell_type": "markdown",
   "id": "a45a6adf",
   "metadata": {},
   "source": [
    "将深度学习框架定义的张量转换为NumPy张量（ndarray）很容易，反之也同样容易。 torch张量和numpy数组将共享它们的底层内存，就地操作更改一个张量也会同时更改另一个张量。"
   ]
  },
  {
   "cell_type": "code",
   "execution_count": 17,
   "id": "f22de816",
   "metadata": {},
   "outputs": [
    {
     "data": {
      "text/plain": [
       "(torch.Tensor, numpy.ndarray, torch.Tensor)"
      ]
     },
     "execution_count": 17,
     "metadata": {},
     "output_type": "execute_result"
    },
    {
     "data": {
      "text/plain": [
       "(tensor([[12., 12., 12., 12.],\n",
       "         [12., 12., 12., 12.],\n",
       "         [ 8.,  9., 10., 11.]]),\n",
       " False,\n",
       " False)"
      ]
     },
     "execution_count": 17,
     "metadata": {},
     "output_type": "execute_result"
    },
    {
     "data": {
      "text/plain": [
       "(tensor([[ 0., 12., 12., 12.],\n",
       "         [12., 12., 12., 12.],\n",
       "         [ 8.,  9., 10., 11.]]),\n",
       " array([[ 0., 12., 12., 12.],\n",
       "        [12., 12., 12., 12.],\n",
       "        [ 8.,  9., 10., 11.]], dtype=float32),\n",
       " tensor([[12., 12., 12., 12.],\n",
       "         [12., 12., 12., 12.],\n",
       "         [ 8.,  9., 10., 11.]]))"
      ]
     },
     "execution_count": 17,
     "metadata": {},
     "output_type": "execute_result"
    }
   ],
   "source": [
    "A = X.numpy()      # Tensor -> ndarray\n",
    "B = torch.tensor(A)     # ndarray -> Tensor\n",
    "type(X),type(A), type(B)\n",
    "X,id(X) == id(A),id(B) == id(A)  # X,A,B分别指向不同的内存空间\n",
    "X[0,0] = 0\n",
    "X,A,B          # 就地操作更改X,也会同时更改A,但是B没有变"
   ]
  },
  {
   "cell_type": "code",
   "execution_count": 18,
   "id": "06d39480",
   "metadata": {},
   "outputs": [
    {
     "data": {
      "text/plain": [
       "(tensor([[ 0.,  0., 12., 12.],\n",
       "         [12., 12., 12., 12.],\n",
       "         [ 8.,  9., 10., 11.]]),\n",
       " array([[ 0.,  0., 12., 12.],\n",
       "        [12., 12., 12., 12.],\n",
       "        [ 8.,  9., 10., 11.]], dtype=float32),\n",
       " tensor([[12., 12., 12., 12.],\n",
       "         [12., 12., 12., 12.],\n",
       "         [ 8.,  9., 10., 11.]]))"
      ]
     },
     "execution_count": 18,
     "metadata": {},
     "output_type": "execute_result"
    }
   ],
   "source": [
    "A[0,1] = 0   #就地更改A,X变了,B没有变    ,说明 B = torch.tensor(A) 仅仅 开辟新内存,存放B.没让A和B共享内存\n",
    "X,A,B"
   ]
  },
  {
   "cell_type": "code",
   "execution_count": 19,
   "id": "26541939",
   "metadata": {},
   "outputs": [],
   "source": [
    "import numpy\n",
    "n = numpy.ones(5)\n",
    "t = torch.from_numpy(n)       #这个方法  torch.from_numpy() 可以代替 B = torch.tensor(A) ,可以让A和B共享内存"
   ]
  },
  {
   "cell_type": "code",
   "execution_count": 20,
   "id": "b1ea7055",
   "metadata": {},
   "outputs": [
    {
     "data": {
      "text/plain": [
       "tensor([2., 2., 2., 2., 2.], dtype=torch.float64)"
      ]
     },
     "execution_count": 20,
     "metadata": {},
     "output_type": "execute_result"
    },
    {
     "name": "stdout",
     "output_type": "stream",
     "text": [
      "t: tensor([2., 2., 2., 2., 2.], dtype=torch.float64)\n",
      "n: [2. 2. 2. 2. 2.]\n"
     ]
    }
   ],
   "source": [
    "t.add_(1)\n",
    "print(f\"t: {t}\")\n",
    "print(f\"n: {n}\")"
   ]
  },
  {
   "cell_type": "code",
   "execution_count": null,
   "id": "34b7f4dd",
   "metadata": {},
   "outputs": [],
   "source": []
  }
 ],
 "metadata": {
  "kernelspec": {
   "display_name": "d2l-zh",
   "language": "python",
   "name": "d2l-zh"
  },
  "language_info": {
   "codemirror_mode": {
    "name": "ipython",
    "version": 3
   },
   "file_extension": ".py",
   "mimetype": "text/x-python",
   "name": "python",
   "nbconvert_exporter": "python",
   "pygments_lexer": "ipython3",
   "version": "3.8.16"
  }
 },
 "nbformat": 4,
 "nbformat_minor": 5
}
