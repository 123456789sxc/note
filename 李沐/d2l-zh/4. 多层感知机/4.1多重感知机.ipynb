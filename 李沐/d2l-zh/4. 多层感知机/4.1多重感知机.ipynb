{
 "cells": [
  {
   "cell_type": "markdown",
   "id": "60e24040",
   "metadata": {},
   "source": [
    "我们可以通过在网络中加入一个或多个隐藏层来克服线性模型的限制，**使其能处理更普遍的函数关系类型。**"
   ]
  },
  {
   "cell_type": "markdown",
   "id": "511047b6",
   "metadata": {},
   "source": [
    "多层感知机可以通过隐藏神经元，捕捉到输入之间复杂的相互作用， 这些神经元依赖于每个输入的值。这就是深度学习自动学习特征向量之间的关系，挖掘特征向量所蕴含的信息，之前的机器学习需要我们自己指定特征向量的个数，以及每一个特征向量。而现在，虽然同样是输入特征向量，但是我们可以通过增加隐藏层，让模型自己去挖掘特征向量的有用信息，进行提取，隐藏层的层数就是我们提取信息的次数，通过萃取后的信息(最后一层隐藏层)来分类。"
   ]
  },
  {
   "cell_type": "code",
   "execution_count": null,
   "id": "b708c89a",
   "metadata": {},
   "outputs": [],
   "source": []
  }
 ],
 "metadata": {
  "kernelspec": {
   "display_name": "d2l-zh",
   "language": "python",
   "name": "d2l-zh"
  },
  "language_info": {
   "codemirror_mode": {
    "name": "ipython",
    "version": 3
   },
   "file_extension": ".py",
   "mimetype": "text/x-python",
   "name": "python",
   "nbconvert_exporter": "python",
   "pygments_lexer": "ipython3",
   "version": "3.8.16"
  }
 },
 "nbformat": 4,
 "nbformat_minor": 5
}
