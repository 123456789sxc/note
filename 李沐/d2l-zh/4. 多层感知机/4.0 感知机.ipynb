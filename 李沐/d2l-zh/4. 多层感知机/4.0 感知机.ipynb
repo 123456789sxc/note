{
 "cells": [
  {
   "cell_type": "markdown",
   "id": "f81907cf",
   "metadata": {},
   "source": [
    "感知机是个二分类的模型，其输入为实例的特征向量，输出为实例的类别。  \n",
    "感知机对应于输入空间中将实例划分为正负两类的分离超平面，属于判别模型。\n",
    "![](.\\picture\\1.png)\n",
    "![](.\\picture\\2.png)\n",
    "![](.\\picture\\3.png)"
   ]
  },
  {
   "cell_type": "markdown",
   "id": "87fcbe36",
   "metadata": {},
   "source": [
    "数据的线性可分性\n",
    "给定一个数据集，如果存在某个超平面S(wx+b=0)，能够将数据集的正实例点和负实例点完全正确的划分到超平面的两侧，即对y=+1的实例点，有wx+b>0，对y=-1的实例点，有wx+b<0=0，则称数据集线性可分，否则线性不可分。"
   ]
  },
  {
   "cell_type": "markdown",
   "id": "85db61ce",
   "metadata": {},
   "source": [
    "![](.\\picture\\4.png)"
   ]
  },
  {
   "cell_type": "markdown",
   "id": "ae55c659",
   "metadata": {},
   "source": [
    "![](.\\picture\\5.png)"
   ]
  },
  {
   "cell_type": "markdown",
   "id": "6dc2921b",
   "metadata": {},
   "source": [
    "XOR函数的输入是二维的,$(x_1,x_2)$,输出是+1或-1"
   ]
  },
  {
   "cell_type": "code",
   "execution_count": null,
   "id": "c24ef5ff",
   "metadata": {},
   "outputs": [],
   "source": []
  }
 ],
 "metadata": {
  "kernelspec": {
   "display_name": "d2l-zh",
   "language": "python",
   "name": "d2l-zh"
  },
  "language_info": {
   "codemirror_mode": {
    "name": "ipython",
    "version": 3
   },
   "file_extension": ".py",
   "mimetype": "text/x-python",
   "name": "python",
   "nbconvert_exporter": "python",
   "pygments_lexer": "ipython3",
   "version": "3.8.16"
  }
 },
 "nbformat": 4,
 "nbformat_minor": 5
}
