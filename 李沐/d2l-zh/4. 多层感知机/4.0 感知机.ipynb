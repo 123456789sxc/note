{
 "cells": [
  {
   "cell_type": "markdown",
   "id": "f81907cf",
   "metadata": {},
   "source": [
    "感知机是个二分类的模型，其输入为实例的特征向量，输出为实例的类别。  \n",
    "感知机对应于输入空间中将实例划分为正负两类的分离超平面，属于判别模型。\n",
    "![](.\\picture\\1.png)\n",
    "![](.\\picture\\2.png)\n",
    "![](.\\picture\\3.png)"
   ]
  },
  {
   "cell_type": "markdown",
   "id": "87fcbe36",
   "metadata": {},
   "source": [
    "数据的线性可分性\n",
    "给定一个数据集，如果存在某个超平面S(wx+b=0)，能够将数据集的正实例点和负实例点完全正确的划分到超平面的两侧，即对y=+1的实例点，有wx+b>0，对y=-1的实例点，有wx+b<0=0，则称数据集线性可分，否则线性不可分。"
   ]
  },
  {
   "cell_type": "markdown",
   "id": "85db61ce",
   "metadata": {},
   "source": [
    "![](.\\picture\\4.png)"
   ]
  },
  {
   "cell_type": "markdown",
   "id": "ae55c659",
   "metadata": {},
   "source": [
    "![](.\\picture\\5.png)"
   ]
  },
  {
   "cell_type": "markdown",
   "id": "6dc2921b",
   "metadata": {},
   "source": [
    "XOR函数的输入是二维的,$(x_1,x_2)$,输出是+1或-1"
   ]
  },
  {
   "cell_type": "markdown",
   "id": "72ef9d3d",
   "metadata": {},
   "source": [
    "感知机模型对应超平面上的一条线，感知机本质上是线性模型，即任何特征的增大都会导致模型输出的增大（如果对应的权重为正）， 或者导致模型输出的减小（如果对应的权重为负）。  我们并不能用一条线来区分开绿色的点和红色的点。这是线性模型的缺点。而在深度学习中，有时候我们并不能判断出特征向量与结果之间是否是线性关系，因此，我们可以为线性模型引入非线性(下一章多重感知机介绍)。"
   ]
  }
 ],
 "metadata": {
  "kernelspec": {
   "display_name": "d2l-zh",
   "language": "python",
   "name": "d2l-zh"
  },
  "language_info": {
   "codemirror_mode": {
    "name": "ipython",
    "version": 3
   },
   "file_extension": ".py",
   "mimetype": "text/x-python",
   "name": "python",
   "nbconvert_exporter": "python",
   "pygments_lexer": "ipython3",
   "version": "3.8.16"
  }
 },
 "nbformat": 4,
 "nbformat_minor": 5
}
